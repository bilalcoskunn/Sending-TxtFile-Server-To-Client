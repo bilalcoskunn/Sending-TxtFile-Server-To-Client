{
 "cells": [
  {
   "cell_type": "code",
   "execution_count": 1,
   "metadata": {},
   "outputs": [],
   "source": [
    "import socket"
   ]
  },
  {
   "cell_type": "code",
   "execution_count": 2,
   "metadata": {},
   "outputs": [
    {
     "name": "stdout",
     "output_type": "stream",
     "text": [
      "Server Listening...\n"
     ]
    }
   ],
   "source": [
    "port=60000\n",
    "s=socket.socket()\n",
    "host=socket.gethostname()\n",
    "s.bind((host,port))\n",
    "s.listen(5)\n",
    "print('Server Listening...')"
   ]
  },
  {
   "cell_type": "code",
   "execution_count": null,
   "metadata": {},
   "outputs": [
    {
     "name": "stdout",
     "output_type": "stream",
     "text": [
      "Got connection from\n",
      "Server received b'Hello server!'\n",
      "Sent  b'This is a test file. If you see this message your connection is working succesfully!'\n",
      "Done sending\n"
     ]
    }
   ],
   "source": [
    "while True:\n",
    "    conn, addr = s.accept()     # Establish connection with client.\n",
    "    print ('Got connection from'), addr\n",
    "    data = conn.recv(1024)\n",
    "    print('Server received', repr(data))\n",
    "\n",
    "    filename='mytext.txt'\n",
    "    f = open(filename,'rb')\n",
    "    l = f.read(1024)\n",
    "    while (l):\n",
    "       conn.sendall(l)\n",
    "       print('Sent ',repr(l))\n",
    "       l = f.read(1024)\n",
    "    f.close()\n",
    "\n",
    "    print('Done sending')\n",
    "    conn.sendall(b\"Thank you for connecting\")\n",
    "    conn.close()"
   ]
  },
  {
   "cell_type": "code",
   "execution_count": null,
   "metadata": {},
   "outputs": [],
   "source": []
  }
 ],
 "metadata": {
  "kernelspec": {
   "display_name": "Python 3",
   "language": "python",
   "name": "python3"
  },
  "language_info": {
   "codemirror_mode": {
    "name": "ipython",
    "version": 3
   },
   "file_extension": ".py",
   "mimetype": "text/x-python",
   "name": "python",
   "nbconvert_exporter": "python",
   "pygments_lexer": "ipython3",
   "version": "3.7.6"
  }
 },
 "nbformat": 4,
 "nbformat_minor": 4
}
