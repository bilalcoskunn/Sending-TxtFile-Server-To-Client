{
 "cells": [
  {
   "cell_type": "code",
   "execution_count": 1,
   "metadata": {},
   "outputs": [],
   "source": [
    "import socket"
   ]
  },
  {
   "cell_type": "code",
   "execution_count": 10,
   "metadata": {},
   "outputs": [
    {
     "name": "stdout",
     "output_type": "stream",
     "text": [
      "file opened\n",
      "receiving data...\n",
      "data=%s b'Test!'\n",
      "receiving data...\n",
      "data=%s b'Thank you for connecting'\n",
      "receiving data...\n",
      "data=%s b''\n",
      "Successfully get the file\n",
      "connection closed\n"
     ]
    }
   ],
   "source": [
    "s = socket.socket()             # Create a socket object\n",
    "host = socket.gethostname()     # Get local machine name\n",
    "port = 60000                    # Reserve a port for your service.\n",
    "\n",
    "s.connect((host, port))\n",
    "s.sendall(b\"Hello server!\")\n",
    "\n",
    "with open('received_file', 'wb') as f:\n",
    "    print ('file opened')\n",
    "    while True:\n",
    "        print('receiving data...')\n",
    "        data = s.recv(1024)\n",
    "        print('data=%s', (data))\n",
    "        if not data:\n",
    "            break\n",
    "        # write data to a file\n",
    "        f.write(data)\n",
    "\n",
    "f.close()\n",
    "print('Successfully get the file')\n",
    "s.close()\n",
    "print('connection closed')"
   ]
  },
  {
   "cell_type": "code",
   "execution_count": null,
   "metadata": {},
   "outputs": [],
   "source": []
  }
 ],
 "metadata": {
  "kernelspec": {
   "display_name": "Python 3",
   "language": "python",
   "name": "python3"
  },
  "language_info": {
   "codemirror_mode": {
    "name": "ipython",
    "version": 3
   },
   "file_extension": ".py",
   "mimetype": "text/x-python",
   "name": "python",
   "nbconvert_exporter": "python",
   "pygments_lexer": "ipython3",
   "version": "3.7.6"
  }
 },
 "nbformat": 4,
 "nbformat_minor": 4
}
